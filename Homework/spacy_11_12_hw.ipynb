{
  "nbformat": 4,
  "nbformat_minor": 0,
  "metadata": {
    "colab": {
      "name": "spacy_11_12_hw.ipynb",
      "provenance": [],
      "collapsed_sections": []
    },
    "kernelspec": {
      "name": "python3",
      "display_name": "Python 3"
    }
  },
  "cells": [
    {
      "cell_type": "code",
      "metadata": {
        "id": "BBFgKa0A8SGv",
        "colab_type": "code",
        "colab": {}
      },
      "source": [
        "import pandas as pd\n",
        "import json\n",
        "import string\n",
        "import re\n",
        "import nltk\n",
        "import spacy\n",
        "from nltk.stem import WordNetLemmatizer"
      ],
      "execution_count": 0,
      "outputs": []
    },
    {
      "cell_type": "code",
      "metadata": {
        "id": "zcmOJddXOSMv",
        "colab_type": "code",
        "colab": {}
      },
      "source": [
        "spac = spacy.load('en')"
      ],
      "execution_count": 0,
      "outputs": []
    },
    {
      "cell_type": "code",
      "metadata": {
        "id": "hfeo6Twl97Mz",
        "colab_type": "code",
        "colab": {
          "base_uri": "https://localhost:8080/",
          "height": 151
        },
        "outputId": "d27e785a-3fc3-4b2a-f250-8daffd46ebb1"
      },
      "source": [
        "nltk.download('wordnet')\n",
        "nltk.download('averaged_perceptron_tagger')\n",
        "nltk.download('punkt')"
      ],
      "execution_count": 3,
      "outputs": [
        {
          "output_type": "stream",
          "text": [
            "[nltk_data] Downloading package wordnet to /root/nltk_data...\n",
            "[nltk_data]   Unzipping corpora/wordnet.zip.\n",
            "[nltk_data] Downloading package averaged_perceptron_tagger to\n",
            "[nltk_data]     /root/nltk_data...\n",
            "[nltk_data]   Unzipping taggers/averaged_perceptron_tagger.zip.\n",
            "[nltk_data] Downloading package punkt to /root/nltk_data...\n",
            "[nltk_data]   Unzipping tokenizers/punkt.zip.\n"
          ],
          "name": "stdout"
        },
        {
          "output_type": "execute_result",
          "data": {
            "text/plain": [
              "True"
            ]
          },
          "metadata": {
            "tags": []
          },
          "execution_count": 3
        }
      ]
    },
    {
      "cell_type": "code",
      "metadata": {
        "id": "ud62Q9xU8pcO",
        "colab_type": "code",
        "colab": {}
      },
      "source": [
        "url = \"http://snap.stanford.edu/data/amazon/productGraph/categoryFiles/reviews_Office_Products_5.json.gz\"\n",
        "r = pd.read_json(url,lines=True)\n",
        "df1 = r.copy() "
      ],
      "execution_count": 0,
      "outputs": []
    },
    {
      "cell_type": "code",
      "metadata": {
        "id": "fNtqj1OJCDOI",
        "colab_type": "code",
        "colab": {}
      },
      "source": [
        "lem  = WordNetLemmatizer()\n",
        "mwet = nltk.tokenize.MWETokenizer()"
      ],
      "execution_count": 0,
      "outputs": []
    },
    {
      "cell_type": "code",
      "metadata": {
        "id": "SVktZmaeC9I0",
        "colab_type": "code",
        "colab": {}
      },
      "source": [
        "def nltkpipe(text):\n",
        "  wt_list = nltk.tokenize.word_tokenize(text)\n",
        "  mwe_list = mwet.tokenize(text.split())\n",
        "  tabb = dict(nltk.pos_tag(text.split()))\n",
        "  wordadj = ' '.join([word for word in tabb if tabb[word]=='JJ'])\n",
        "  mwelem = ' '.join([lem.lemmatize(word,'v') for word in mwe_list])\n",
        "  wtlem = ' '.join([lem.lemmatize(word,'v') for word in wt_list])\n",
        "  result = {'MWE':mwelem,'wtlem':wtlem,'word_adj':wordadj}\n",
        "  return  result"
      ],
      "execution_count": 0,
      "outputs": []
    },
    {
      "cell_type": "code",
      "metadata": {
        "id": "nHelelWoJKk0",
        "colab_type": "code",
        "outputId": "e5b618fb-6d16-40a4-dc45-0e5d19f6ec18",
        "colab": {
          "base_uri": "https://localhost:8080/",
          "height": 87
        }
      },
      "source": [
        "nltkpipe(df1['reviewText'][0])"
      ],
      "execution_count": 7,
      "outputs": [
        {
          "output_type": "execute_result",
          "data": {
            "text/plain": [
              "{'MWE': \"I buy my first HP12C in about 1984 or so, and it serve me faithfully until 2002 when I lose it while travelling. I search for another one to replace it, but find one difficult to come by in my area. So, I decide to buy up and purchase an HP 49G. What a mistake! I know that many people view the HP 49G (now 49G+) as the flagship of the HP line, but for me that be a disaster.The 49G may be powerful, but use it be extremely counterintuitive...and the manual be sketchy at best. The 12C, on the other hand, do what I need in a way that make good sense to me.If you be look for a solid, reliable calculator, the HP12C may be for you. It's programmable. It do basic statistics well, and many business applications too. The manual make sense; you will be up and run in short order.I'm ready to set my 49G aside and move back to my old friend. I didn't even have to replace the batteries in well over a decade of use!HP 12C, I'm come home!\",\n",
              " 'word_adj': 'first difficult area. many disaster.The manual other good reliable you. basic short ready old use!HP',\n",
              " 'wtlem': \"I buy my first HP12C in about 1984 or so , and it serve me faithfully until 2002 when I lose it while travel . I search for another one to replace it , but find one difficult to come by in my area . So , I decide to buy up and purchase an HP 49G . What a mistake ! I know that many people view the HP 49G ( now 49G+ ) as the flagship of the HP line , but for me that be a disaster.The 49G may be powerful , but use it be extremely counterintuitive ... and the manual be sketchy at best . The 12C , on the other hand , do what I need in a way that make good sense to me.If you be look for a solid , reliable calculator , the HP12C may be for you . It 's programmable . It do basic statistics well , and many business applications too . The manual make sense ; you will be up and run in short order.I 'm ready to set my 49G aside and move back to my old friend . I do n't even have to replace the batteries in well over a decade of use ! HP 12C , I 'm come home !\"}"
            ]
          },
          "metadata": {
            "tags": []
          },
          "execution_count": 7
        }
      ]
    },
    {
      "cell_type": "code",
      "metadata": {
        "id": "ECcKiCnVJPVt",
        "colab_type": "code",
        "colab": {}
      },
      "source": [
        "def spacypipe(text):\n",
        "  spc = spac(text)\n",
        "  tokens = ' '.join([token.text for token in spc])\n",
        "  lem = ' '.join([token.lemma_ if token.lemma_ != '-PRON-' else token.text for token in spc])\n",
        "  wornoun = ' '.join([token.text for token in spc if token.pos_ == 'NOUN'])\n",
        "  result = {'tokenised':tokens,'lem':lem,'word_noun':wornoun}  \n",
        "  return result"
      ],
      "execution_count": 0,
      "outputs": []
    },
    {
      "cell_type": "code",
      "metadata": {
        "id": "6KORQfe7R2tt",
        "colab_type": "code",
        "outputId": "2e6fcb45-e10e-41d4-b825-9177073110c9",
        "colab": {
          "base_uri": "https://localhost:8080/",
          "height": 87
        }
      },
      "source": [
        "spacypipe(df1['reviewText'][0])"
      ],
      "execution_count": 40,
      "outputs": [
        {
          "output_type": "execute_result",
          "data": {
            "text/plain": [
              "{'lem': \"I buy my first hp12c in about 1984 or so , and it serve me faithfully until 2002 when I lose it while travel .   I search for another one to replace it , but find one difficult to come by in my area .   so , I decide to buy up and purchase an HP 49g.   what a mistake !   I know that many people view the HP 49 G ( now 49g+ ) as the flagship of the HP line , but for me that be a disaster . the 49 g may be powerful , but use it be extremely counterintuitive ... and the manual be sketchy at good .   the 12c , on the other hand , do what I need in a way that make good sense to me . if you be look for a solid , reliable calculator , the hp12c may be for you .   It be programmable .   It do basic statistic well , and many business application too .   the manual make sense ; you will be up and run in short order . i'm ready to set my 49 g aside and move back to my old friend .   I do not even have to replace the battery in well over a decade of use!hp 12c , I be come home !\",\n",
              " 'tokenised': \"I bought my first HP12C in about 1984 or so , and it served me faithfully until 2002 when I lost it while travelling .   I searched for another one to replace it , but found one difficult to come by in my area .   So , I decided to buy up and purchased an HP 49G.   What a mistake !   I know that many people view the HP 49 G ( now 49G+ ) as the flagship of the HP line , but for me that was a disaster . The 49 G may be powerful , but using it is extremely counterintuitive ... and the manual was sketchy at best .   The 12C , on the other hand , does what I need in a way that makes good sense to me . If you are looking for a solid , reliable calculator , the HP12C may be for you .   It 's programmable .   It does basic statistics well , and many business applications too .   The manual makes sense ; you will be up and running in short order . I'm ready to set my 49 G aside and move back to my old friend .   I did n't even have to replace the batteries in well over a decade of use!HP 12C , I 'm coming home !\",\n",
              " 'word_noun': 'HP12C one area mistake people flagship line disaster G manual hand way sense calculator HP12C statistics business applications manual sense order G friend batteries decade'}"
            ]
          },
          "metadata": {
            "tags": []
          },
          "execution_count": 40
        }
      ]
    },
    {
      "cell_type": "code",
      "metadata": {
        "id": "t9tSt97zdu5j",
        "colab_type": "code",
        "colab": {}
      },
      "source": [
        ""
      ],
      "execution_count": 0,
      "outputs": []
    }
  ]
}