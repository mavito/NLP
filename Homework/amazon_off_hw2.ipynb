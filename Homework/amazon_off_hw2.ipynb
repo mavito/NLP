{
  "nbformat": 4,
  "nbformat_minor": 0,
  "metadata": {
    "colab": {
      "name": "amazonoffice2.ipynb",
      "provenance": [],
      "collapsed_sections": []
    },
    "kernelspec": {
      "name": "python3",
      "display_name": "Python 3"
    }
  },
  "cells": [
    {
      "cell_type": "code",
      "metadata": {
        "id": "INybzj4iZzMd",
        "colab_type": "code",
        "colab": {}
      },
      "source": [
        "import pandas as pd\n",
        "import json\n",
        "import string\n",
        "import re"
      ],
      "execution_count": 0,
      "outputs": []
    },
    {
      "cell_type": "markdown",
      "metadata": {
        "id": "qPDeZtvkV6c-",
        "colab_type": "text"
      },
      "source": [
        "LINK TO AMAZON REVIEWS FOR OFFICE PRODUCTS"
      ]
    },
    {
      "cell_type": "code",
      "metadata": {
        "id": "NoQwZ2ZJSvlA",
        "colab_type": "code",
        "colab": {}
      },
      "source": [
        "url = \"http://snap.stanford.edu/data/amazon/productGraph/categoryFiles/reviews_Office_Products_5.json.gz\" "
      ],
      "execution_count": 0,
      "outputs": []
    },
    {
      "cell_type": "code",
      "metadata": {
        "id": "7J4GTCXqS7t9",
        "colab_type": "code",
        "colab": {}
      },
      "source": [
        "r = pd.read_json(url,lines=True)"
      ],
      "execution_count": 0,
      "outputs": []
    },
    {
      "cell_type": "code",
      "metadata": {
        "id": "2is97QUnTmxN",
        "colab_type": "code",
        "colab": {}
      },
      "source": [
        "df1 = r.copy()"
      ],
      "execution_count": 0,
      "outputs": []
    },
    {
      "cell_type": "markdown",
      "metadata": {
        "id": "Bn9d8Z5-WKv6",
        "colab_type": "text"
      },
      "source": [
        "LECTURE 2"
      ]
    },
    {
      "cell_type": "markdown",
      "metadata": {
        "id": "A2JCNbDEp4--",
        "colab_type": "text"
      },
      "source": [
        "VOWEL CONSONANT CASE"
      ]
    },
    {
      "cell_type": "code",
      "metadata": {
        "id": "fEz3dCxRjKuU",
        "colab_type": "code",
        "colab": {}
      },
      "source": [
        "vowel = list('aeiou')    "
      ],
      "execution_count": 0,
      "outputs": []
    },
    {
      "cell_type": "code",
      "metadata": {
        "id": "h5qHc30AkcHB",
        "colab_type": "code",
        "colab": {}
      },
      "source": [
        "def vowcons(text):\n",
        "  countr = {\"vowel\":0,\"consonant\":0,\"totcount\":0}\n",
        "  punc = \"`!@#$%^&*()_+-=[]{}\\/|;':,.<>?0123456789\"\n",
        "  \n",
        "  for word in text:\n",
        "    if word in list(punc):\n",
        "      text = text.replace(word,'')\n",
        "  countr['totcount'] = len(text.split())\n",
        "  text = text.replace(' ','')\n",
        "\n",
        "  for lettr in list(text):\n",
        "    if lettr.casefold() in vowel:\n",
        "      countr[\"vowel\"]+=1\n",
        "    else:\n",
        "      countr[\"consonant\"]+=1\n",
        "  return countr"
      ],
      "execution_count": 0,
      "outputs": []
    },
    {
      "cell_type": "code",
      "metadata": {
        "id": "X-A43E9bkcRp",
        "colab_type": "code",
        "colab": {}
      },
      "source": [
        "df1['VowConsTotT'] = df1['reviewText'].apply(vowcons)\n",
        "df1['VowConsTotS'] = df1['summary'].apply(vowcons)"
      ],
      "execution_count": 0,
      "outputs": []
    },
    {
      "cell_type": "code",
      "metadata": {
        "id": "B0MPyNwB-ZqY",
        "colab_type": "code",
        "outputId": "07868c24-3dd3-45eb-a739-62baa2434e92",
        "colab": {
          "base_uri": "https://localhost:8080/",
          "height": 50
        }
      },
      "source": [
        "df1['VowConsTotS'][0] , df1['summary'][0]"
      ],
      "execution_count": 77,
      "outputs": [
        {
          "output_type": "execute_result",
          "data": {
            "text/plain": [
              "({'consonant': 20, 'totcount': 7, 'vowel': 12},\n",
              " 'A solid performer, and long time friend')"
            ]
          },
          "metadata": {
            "tags": []
          },
          "execution_count": 77
        }
      ]
    },
    {
      "cell_type": "markdown",
      "metadata": {
        "id": "JIcjYjRZp-qe",
        "colab_type": "text"
      },
      "source": [
        "BEGINNING WITH B ENDING WITH G"
      ]
    },
    {
      "cell_type": "code",
      "metadata": {
        "id": "bYXh-IZKxQ6O",
        "colab_type": "code",
        "colab": {}
      },
      "source": [
        "def bbeg(text):\n",
        "  text = re.sub(\"'\",\" \",text)\n",
        "  countb = (re.findall(r'\\bb\\w+',text,re.IGNORECASE))\n",
        "  countg = (re.findall(r\"\\w+g\\b\",text,re.IGNORECASE))\n",
        "  countbg = {'B':countb,'G':countg,'numB':len(countb),'numG':len(countg)}\n",
        "  return countbg"
      ],
      "execution_count": 0,
      "outputs": []
    },
    {
      "cell_type": "code",
      "metadata": {
        "id": "_gwP8JL8x7S4",
        "colab_type": "code",
        "colab": {}
      },
      "source": [
        "df1['bbegText'] = df1['reviewText'].apply(bbeg)\n",
        "df1['bbegSum'] = df1['summary'].apply(bbeg)"
      ],
      "execution_count": 0,
      "outputs": []
    },
    {
      "cell_type": "code",
      "metadata": {
        "id": "TKZznttzzGWs",
        "colab_type": "code",
        "outputId": "00acedfb-7e2b-4ade-b6b3-9034351f213a",
        "colab": {
          "base_uri": "https://localhost:8080/",
          "height": 454
        }
      },
      "source": [
        "df1['bbegText'][0]"
      ],
      "execution_count": 81,
      "outputs": [
        {
          "output_type": "execute_result",
          "data": {
            "text/plain": [
              "{'B': ['bought',\n",
              "  'but',\n",
              "  'by',\n",
              "  'buy',\n",
              "  'but',\n",
              "  'be',\n",
              "  'but',\n",
              "  'best',\n",
              "  'be',\n",
              "  'basic',\n",
              "  'business',\n",
              "  'be',\n",
              "  'back',\n",
              "  'batteries'],\n",
              " 'G': ['travelling',\n",
              "  '49G',\n",
              "  '49G',\n",
              "  '49G',\n",
              "  '49G',\n",
              "  'using',\n",
              "  'looking',\n",
              "  'running',\n",
              "  '49G',\n",
              "  'coming'],\n",
              " 'numB': 14,\n",
              " 'numG': 10}"
            ]
          },
          "metadata": {
            "tags": []
          },
          "execution_count": 81
        }
      ]
    },
    {
      "cell_type": "code",
      "metadata": {
        "id": "NE981NgYrFDr",
        "colab_type": "code",
        "colab": {}
      },
      "source": [
        "def notbang(text):\n",
        "  text = re.sub(\"'\",\"\",text)\n",
        "  text = re.sub(\"[^a-zA-Z0-9]\",\" \",text)\n",
        "  countb = re.findall(r\"\\b(?!b)\\w+\",text,re.IGNORECASE)\n",
        "  countbg = [word for word in countb if word in re.findall(r\"\\w*(?<!g)\\b\",text,re.IGNORECASE)]          \n",
        "  return countbg"
      ],
      "execution_count": 0,
      "outputs": []
    },
    {
      "cell_type": "code",
      "metadata": {
        "id": "YD_bCNTotst8",
        "colab_type": "code",
        "colab": {}
      },
      "source": [
        "df1['notbangText'] = df1['reviewText'].apply(notbang)\n",
        "df1['notbangSum'] = df1['summary'].apply(notbang)"
      ],
      "execution_count": 0,
      "outputs": []
    },
    {
      "cell_type": "code",
      "metadata": {
        "id": "HLuahwOVt1I6",
        "colab_type": "code",
        "colab": {
          "base_uri": "https://localhost:8080/",
          "height": 34
        },
        "outputId": "edb5f928-3116-4932-c936-7f3f979bf6e3"
      },
      "source": [
        "df1['notbangSum'][4],df1['summary'][4]"
      ],
      "execution_count": 133,
      "outputs": [
        {
          "output_type": "execute_result",
          "data": {
            "text/plain": [
              "(['Still', 'the'], 'Still the best')"
            ]
          },
          "metadata": {
            "tags": []
          },
          "execution_count": 133
        }
      ]
    }
  ]
}