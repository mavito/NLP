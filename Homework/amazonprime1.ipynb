{
  "nbformat": 4,
  "nbformat_minor": 0,
  "metadata": {
    "colab": {
      "name": "amazonprime1.ipynb",
      "provenance": []
    },
    "kernelspec": {
      "name": "python3",
      "display_name": "Python 3"
    }
  },
  "cells": [
    {
      "cell_type": "code",
      "metadata": {
        "id": "INybzj4iZzMd",
        "colab_type": "code",
        "colab": {}
      },
      "source": [
        "import pandas as pd\n",
        "import json\n",
        "from collections import Counter"
      ],
      "execution_count": 0,
      "outputs": []
    },
    {
      "cell_type": "markdown",
      "metadata": {
        "id": "qPDeZtvkV6c-",
        "colab_type": "text"
      },
      "source": [
        "LINK TO AMAZON REVIEWS FOR OFFICE PRODUCTS"
      ]
    },
    {
      "cell_type": "code",
      "metadata": {
        "id": "NoQwZ2ZJSvlA",
        "colab_type": "code",
        "colab": {}
      },
      "source": [
        "url = \"http://snap.stanford.edu/data/amazon/productGraph/categoryFiles/reviews_Office_Products_5.json.gz\" "
      ],
      "execution_count": 0,
      "outputs": []
    },
    {
      "cell_type": "code",
      "metadata": {
        "id": "7J4GTCXqS7t9",
        "colab_type": "code",
        "colab": {}
      },
      "source": [
        "r = pd.read_json(url,lines=True)"
      ],
      "execution_count": 0,
      "outputs": []
    },
    {
      "cell_type": "code",
      "metadata": {
        "id": "5kFO64H3bkdE",
        "colab_type": "code",
        "colab": {}
      },
      "source": [
        "#function which splits the words in a text paragraph and returns counter of occurrence of each individual word as dictionary\n",
        "def custom_func(texts):\n",
        "  countr = {}\n",
        "  text = texts.split()\n",
        "  for word in text:\n",
        "    if word in countr:\n",
        "      countr[word]+=1\n",
        "    else:\n",
        "      countr[word]=1\n",
        "  return countr\n"
      ],
      "execution_count": 0,
      "outputs": []
    },
    {
      "cell_type": "code",
      "metadata": {
        "id": "2is97QUnTmxN",
        "colab_type": "code",
        "colab": {}
      },
      "source": [
        "df1 = r.copy()"
      ],
      "execution_count": 0,
      "outputs": []
    },
    {
      "cell_type": "code",
      "metadata": {
        "id": "dJZQQH2XljB0",
        "colab_type": "code",
        "colab": {}
      },
      "source": [
        "df1['reviewTCounter'] = df1['reviewText'].apply(lambda x:custom_func(x))\n",
        "df1['reviewSCounter'] = df1['summary'].apply(lambda x:custom_func(x))"
      ],
      "execution_count": 0,
      "outputs": []
    }
  ]
}