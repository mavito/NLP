{
  "nbformat": 4,
  "nbformat_minor": 0,
  "metadata": {
    "colab": {
      "name": "yozoco_MANAS.ipynb",
      "provenance": [],
      "authorship_tag": "ABX9TyPIQUp+flJby7wGJ1z5ckNP",
      "include_colab_link": true
    },
    "kernelspec": {
      "name": "python3",
      "display_name": "Python 3"
    }
  },
  "cells": [
    {
      "cell_type": "markdown",
      "metadata": {
        "id": "view-in-github",
        "colab_type": "text"
      },
      "source": [
        "<a href=\"https://colab.research.google.com/github/mavito/NLP/blob/master/yozoco_MANAS.ipynb\" target=\"_parent\"><img src=\"https://colab.research.google.com/assets/colab-badge.svg\" alt=\"Open In Colab\"/></a>"
      ]
    },
    {
      "cell_type": "markdown",
      "metadata": {
        "id": "zYYd5i2mx4BX",
        "colab_type": "text"
      },
      "source": [
        "MANAS TOKALE J053 YOZOCO ASSIGNMENT"
      ]
    },
    {
      "cell_type": "code",
      "metadata": {
        "id": "-225QNJR8120",
        "colab_type": "code",
        "colab": {}
      },
      "source": [
        "import pandas as pd\n",
        "import numpy as np\n",
        "from nltk.corpus import stopwords\n",
        "from nltk.tokenize import sent_tokenize\n",
        "import nltk\n",
        "from nltk.corpus import wordnet\n",
        "import re"
      ],
      "execution_count": 0,
      "outputs": []
    },
    {
      "cell_type": "code",
      "metadata": {
        "id": "GEui7K7ClgoQ",
        "colab_type": "code",
        "outputId": "f26c80dc-e491-4a0e-a209-fd97c8ff15b6",
        "colab": {
          "base_uri": "https://localhost:8080/",
          "height": 185
        }
      },
      "source": [
        "nltk.download('stopwords')\n",
        "nltk.download('punkt')\n",
        "nltk.download('wordnet')\n",
        "nltk.download('averaged_perceptron_tagger')"
      ],
      "execution_count": 0,
      "outputs": [
        {
          "output_type": "stream",
          "text": [
            "[nltk_data] Downloading package stopwords to /root/nltk_data...\n",
            "[nltk_data]   Package stopwords is already up-to-date!\n",
            "[nltk_data] Downloading package punkt to /root/nltk_data...\n",
            "[nltk_data]   Package punkt is already up-to-date!\n",
            "[nltk_data] Downloading package wordnet to /root/nltk_data...\n",
            "[nltk_data]   Package wordnet is already up-to-date!\n",
            "[nltk_data] Downloading package averaged_perceptron_tagger to\n",
            "[nltk_data]     /root/nltk_data...\n",
            "[nltk_data]   Unzipping taggers/averaged_perceptron_tagger.zip.\n"
          ],
          "name": "stdout"
        },
        {
          "output_type": "execute_result",
          "data": {
            "text/plain": [
              "True"
            ]
          },
          "metadata": {
            "tags": []
          },
          "execution_count": 19
        }
      ]
    },
    {
      "cell_type": "code",
      "metadata": {
        "id": "t0Bi9IbglPa_",
        "colab_type": "code",
        "colab": {}
      },
      "source": [
        "stop_words = set(stopwords.words('english'))"
      ],
      "execution_count": 0,
      "outputs": []
    },
    {
      "cell_type": "code",
      "metadata": {
        "id": "U4aWFqYX89Eb",
        "colab_type": "code",
        "colab": {}
      },
      "source": [
        "df = pd.read_csv('/content/yzk.csv')"
      ],
      "execution_count": 0,
      "outputs": []
    },
    {
      "cell_type": "code",
      "metadata": {
        "id": "ggmBmuzY-V8l",
        "colab_type": "code",
        "outputId": "24d51c42-85e9-4941-b463-a0d8663081b6",
        "colab": {
          "base_uri": "https://localhost:8080/",
          "height": 54
        }
      },
      "source": [
        "df['text'][0]"
      ],
      "execution_count": 0,
      "outputs": [
        {
          "output_type": "execute_result",
          "data": {
            "text/plain": [
              "' Vardhaman Kochar\\\\nSadhana Kochar\\\\n9822342076\\\\n9970177076\\\\nSadhana Dry Fruits\\\\n& Food Products\\\\nBest Quality Dry Fruits,\\\\nFrozen Dry Fruits, Attractive Gift\\\\nPacks at Very Reasonable Price\\\\nC-204, Shivramnagar, Behind Navakar Hospital,\\\\nGovind Nagar, Nashik-9. Ph.: 2471024, M : 8668489189'"
            ]
          },
          "metadata": {
            "tags": []
          },
          "execution_count": 7
        }
      ]
    },
    {
      "cell_type": "code",
      "metadata": {
        "id": "Wsn-sK6B-WMp",
        "colab_type": "code",
        "colab": {}
      },
      "source": [
        "df['ListAll']=df['text'].apply(lambda x:x.split(\"\\\\n\"))"
      ],
      "execution_count": 0,
      "outputs": []
    },
    {
      "cell_type": "code",
      "metadata": {
        "id": "O2BClZm5KUUR",
        "colab_type": "code",
        "outputId": "ed076bfa-49d1-41c4-8783-f707283af5b4",
        "colab": {
          "base_uri": "https://localhost:8080/",
          "height": 202
        }
      },
      "source": [
        "df['ListAll'][9]"
      ],
      "execution_count": 0,
      "outputs": [
        {
          "output_type": "execute_result",
          "data": {
            "text/plain": [
              "[' Suhas Saraf',\n",
              " 'C.E.O.',\n",
              " 'Vasundhara',\n",
              " 'Enterprises',\n",
              " 'Plot No. 21/2B, M.I.D.C. Satpur,',\n",
              " 'Nashik - 422 007. Maharashtra, India.',\n",
              " 'Tel.: 0253-2355424',\n",
              " 'www.vasundharaenterprises.in',\n",
              " 'e-mail : saraf.suhas@yahoo.com',\n",
              " 'marketing@vasundharaenterprises.in',\n",
              " 'Cell : 9422255226']"
            ]
          },
          "metadata": {
            "tags": []
          },
          "execution_count": 9
        }
      ]
    },
    {
      "cell_type": "code",
      "metadata": {
        "id": "0Alxr5pnP0GN",
        "colab_type": "code",
        "colab": {}
      },
      "source": [
        "#REGEX PATTERNS\n",
        "phonepattern = r'\\b\\d{10}\\b'\n",
        "emailpattern = r'\\b[a-zA-Z0-9_.+]+@[a-zA-Z0-9-]+\\.[a-zA-Z0-9-.]+\\b'\n",
        "webpattern = r'\\b[w]{3}\\.+[a-zA-Z0-9]+\\.[a-zA-Z]+\\b'"
      ],
      "execution_count": 0,
      "outputs": []
    },
    {
      "cell_type": "code",
      "metadata": {
        "id": "V25qs5bMKWok",
        "colab_type": "code",
        "colab": {}
      },
      "source": [
        "phone=[]\n",
        "email=[]\n",
        "web=[]\n",
        "for row in df['ListAll']:\n",
        "  for items in row:\n",
        "    phone.append(re.findall(phonepattern,items))\n",
        "    email.append(re.findall(emailpattern,items))\n",
        "    web.append(re.findall(webpattern,items))"
      ],
      "execution_count": 0,
      "outputs": []
    },
    {
      "cell_type": "code",
      "metadata": {
        "id": "gsP9aQ4qTqva",
        "colab_type": "code",
        "colab": {}
      },
      "source": [
        "def names(String):\n",
        "  String=re.sub('[^a-zA-Z]', \" \", str(String))\n",
        "  Tokens = nltk.word_tokenize(String)\n",
        "  text_tokens_no_sw=[w for w in Tokens if not w in stop_words]\n",
        "  Words_List = [nltk.pos_tag(text_tokens_no_sw) for Token in Tokens]\n",
        "\n",
        "  Nouns_List = []\n",
        "\n",
        "  for List in Words_List:\n",
        "    for Word in List:\n",
        "      if re.match('[NN.*]', Word[1]):\n",
        "        Nouns_List.append(Word[0])\n",
        "\n",
        "  Names = []\n",
        "  for Nouns in Nouns_List:\n",
        "    if not wordnet.synsets(Nouns) and Nouns not in Names:\n",
        "      Names.append(Nouns)\n",
        "\n",
        "  return (str(Names[0]+\" \"+Names[1]))"
      ],
      "execution_count": 0,
      "outputs": []
    },
    {
      "cell_type": "code",
      "metadata": {
        "id": "eAEUfBUknnyO",
        "colab_type": "code",
        "colab": {}
      },
      "source": [
        "df['Namess']=df['ListAll'].apply(lambda i: names(i))"
      ],
      "execution_count": 0,
      "outputs": []
    },
    {
      "cell_type": "code",
      "metadata": {
        "id": "A1K7vVkLvcEp",
        "colab_type": "code",
        "colab": {}
      },
      "source": [
        "a=[x for x in web if x != []]"
      ],
      "execution_count": 0,
      "outputs": []
    },
    {
      "cell_type": "code",
      "metadata": {
        "id": "eELtru0Zvvm-",
        "colab_type": "code",
        "colab": {}
      },
      "source": [
        "b=[x for x in phone if x != []]"
      ],
      "execution_count": 0,
      "outputs": []
    },
    {
      "cell_type": "code",
      "metadata": {
        "id": "M2_4sY-JwZr1",
        "colab_type": "code",
        "colab": {}
      },
      "source": [
        "c=[x for x in email if x != []]"
      ],
      "execution_count": 0,
      "outputs": []
    },
    {
      "cell_type": "code",
      "metadata": {
        "id": "6VvnQ_G2wcYx",
        "colab_type": "code",
        "outputId": "1841ee25-b7f5-4b29-b385-ed063128b219",
        "colab": {
          "base_uri": "https://localhost:8080/",
          "height": 50
        }
      },
      "source": [
        "print('Identified:\\n','Websites:{}\\tPhoneNumbers:{}\\tEmailIds:{}'.format(len(a),len(b),len(c))) #PHONE NUMBERS PRINT PHONE NUMBERS PER ENTITY"
      ],
      "execution_count": 0,
      "outputs": [
        {
          "output_type": "stream",
          "text": [
            "Identified:\n",
            " Websites:10\tPhoneNumbers:49\tEmailIds:33\n"
          ],
          "name": "stdout"
        }
      ]
    },
    {
      "cell_type": "code",
      "metadata": {
        "id": "zAjmfF1ZwvDW",
        "colab_type": "code",
        "outputId": "6682594f-d860-41be-e657-398530d30736",
        "colab": {
          "base_uri": "https://localhost:8080/",
          "height": 185
        }
      },
      "source": [
        "a"
      ],
      "execution_count": 0,
      "outputs": [
        {
          "output_type": "execute_result",
          "data": {
            "text/plain": [
              "[['www.vasundharaenterprises.in'],\n",
              " ['www.SIXONICTECH.COM'],\n",
              " ['www.91springboard.com'],\n",
              " ['www.bentoncharger.com'],\n",
              " ['www.thevengaproject.in'],\n",
              " ['www.vaishalitravels.in'],\n",
              " ['www.theblockchainschool.io'],\n",
              " ['www.iciciprulife.com'],\n",
              " ['www.internauts.io'],\n",
              " ['www.bvmsevents.com']]"
            ]
          },
          "metadata": {
            "tags": []
          },
          "execution_count": 25
        }
      ]
    },
    {
      "cell_type": "code",
      "metadata": {
        "id": "0dqCCAwKxInw",
        "colab_type": "code",
        "outputId": "1c256622-3d32-4621-f479-c2caf3d2b8f5",
        "colab": {
          "base_uri": "https://localhost:8080/",
          "height": 840
        }
      },
      "source": [
        "b"
      ],
      "execution_count": 0,
      "outputs": [
        {
          "output_type": "execute_result",
          "data": {
            "text/plain": [
              "[['9822342076'],\n",
              " ['9970177076'],\n",
              " ['8668489189'],\n",
              " ['9370237313'],\n",
              " ['7972464762'],\n",
              " ['9423777151'],\n",
              " ['9373557700'],\n",
              " ['9623769100'],\n",
              " ['7620557700'],\n",
              " ['7875042230'],\n",
              " ['9011409121'],\n",
              " ['9422132290', '9371667306', '9422830268'],\n",
              " ['9422255226'],\n",
              " ['8055803830'],\n",
              " ['9834800422'],\n",
              " ['9869644680'],\n",
              " ['8898389720'],\n",
              " ['9422283430'],\n",
              " ['9004488330'],\n",
              " ['8055803830'],\n",
              " ['9595383216'],\n",
              " ['9440243827'],\n",
              " ['9494659251'],\n",
              " ['8453399663'],\n",
              " ['9421833600'],\n",
              " ['8668402457'],\n",
              " ['9370762286'],\n",
              " ['9373962286'],\n",
              " ['9890279991'],\n",
              " ['9970181991'],\n",
              " ['9373250625'],\n",
              " ['9422942625'],\n",
              " ['9421833600'],\n",
              " ['9822059833'],\n",
              " ['9225146555'],\n",
              " ['9595050076'],\n",
              " ['9404796276'],\n",
              " ['9657000076'],\n",
              " ['9423971876'],\n",
              " ['9422249955'],\n",
              " ['9372564774'],\n",
              " ['9890365111', '9403724071'],\n",
              " ['8412902672'],\n",
              " ['8055803830'],\n",
              " ['9767759567'],\n",
              " ['8114450275'],\n",
              " ['9610067333'],\n",
              " ['9950037982'],\n",
              " ['9001931919']]"
            ]
          },
          "metadata": {
            "tags": []
          },
          "execution_count": 26
        }
      ]
    },
    {
      "cell_type": "code",
      "metadata": {
        "id": "WKTcX-v1xI3Y",
        "colab_type": "code",
        "outputId": "07e943a1-49c3-488b-d15a-8a0fc82d779f",
        "colab": {
          "base_uri": "https://localhost:8080/",
          "height": 571
        }
      },
      "source": [
        "c"
      ],
      "execution_count": 0,
      "outputs": [
        {
          "output_type": "execute_result",
          "data": {
            "text/plain": [
              "[['balajicanvassingcompany@gmail.com'],\n",
              " ['manan.mathur@questoffices.com'],\n",
              " ['shivament.pune@gmail.com'],\n",
              " ['property.junction27@gmail.com'],\n",
              " ['tarungarg55@in.com'],\n",
              " ['manan.mathur@questoffices.com'],\n",
              " ['Ivrcocoanutmerchants@gmail.com'],\n",
              " ['saraf.suhas@yahoo.com'],\n",
              " ['marketing@vasundharaenterprises.in'],\n",
              " ['pramod@sixonictech.com'],\n",
              " ['shivament.pune@gmail.com'],\n",
              " ['property.junction27@gmail.com'],\n",
              " ['jaileshmht@gmail.com'],\n",
              " ['ndzawar@yaboo.com'],\n",
              " ['nehaal@91springboard.com'],\n",
              " ['mum.andheri.lotus@91springboard.com'],\n",
              " ['info@bentoncharger.com'],\n",
              " ['amitkumthekar007@gmail.com'],\n",
              " ['capushkarsolanki@gmail.com'],\n",
              " ['sidharth@thevengaproject.in'],\n",
              " ['shubham.jyayur@gmail.com'],\n",
              " ['13@gmail.com'],\n",
              " ['mittlacoco.kkd@gmail.com'],\n",
              " ['capushkarsolanki@gmail.com'],\n",
              " ['mahalaxmiturs@gmail.com'],\n",
              " ['bsh_shament@rediffmail.com'],\n",
              " ['vaishalitravelsvt@gmail.com'],\n",
              " ['saurabh@theblockthainschool.io'],\n",
              " ['rashikadass28@gmail.com'],\n",
              " ['vyankateshtraders@yahoo.com'],\n",
              " ['sushilkumar.shinde@iciciprulife.com'],\n",
              " ['mitesh.pokar@internauts.io'],\n",
              " ['csabhayathavle@gmail.com']]"
            ]
          },
          "metadata": {
            "tags": []
          },
          "execution_count": 27
        }
      ]
    },
    {
      "cell_type": "code",
      "metadata": {
        "id": "qgmvGsu8xJKW",
        "colab_type": "code",
        "outputId": "25b29339-5b14-427f-bc10-5aa4d8456bce",
        "colab": {
          "base_uri": "https://localhost:8080/",
          "height": 1000
        }
      },
      "source": [
        "df"
      ],
      "execution_count": 0,
      "outputs": [
        {
          "output_type": "execute_result",
          "data": {
            "text/html": [
              "<div>\n",
              "<style scoped>\n",
              "    .dataframe tbody tr th:only-of-type {\n",
              "        vertical-align: middle;\n",
              "    }\n",
              "\n",
              "    .dataframe tbody tr th {\n",
              "        vertical-align: top;\n",
              "    }\n",
              "\n",
              "    .dataframe thead th {\n",
              "        text-align: right;\n",
              "    }\n",
              "</style>\n",
              "<table border=\"1\" class=\"dataframe\">\n",
              "  <thead>\n",
              "    <tr style=\"text-align: right;\">\n",
              "      <th></th>\n",
              "      <th>text</th>\n",
              "      <th>ListAll</th>\n",
              "      <th>Namess</th>\n",
              "    </tr>\n",
              "  </thead>\n",
              "  <tbody>\n",
              "    <tr>\n",
              "      <th>0</th>\n",
              "      <td>Vardhaman Kochar\\nSadhana Kochar\\n9822342076\\...</td>\n",
              "      <td>[ Vardhaman Kochar, Sadhana Kochar, 9822342076...</td>\n",
              "      <td>Vardhaman Kochar</td>\n",
              "    </tr>\n",
              "    <tr>\n",
              "      <th>1</th>\n",
              "      <td>I Tarachand\\n9370237313\\nBALAJI\\n7972464762\\n...</td>\n",
              "      <td>[ I Tarachand, 9370237313, BALAJI, 7972464762,...</td>\n",
              "      <td>BALAJI Foodgrains</td>\n",
              "    </tr>\n",
              "    <tr>\n",
              "      <th>2</th>\n",
              "      <td>Manan Mathur\\nRelationship Manager - Sales\\n+...</td>\n",
              "      <td>[ Manan Mathur, Relationship Manager - Sales, ...</td>\n",
              "      <td>Manan Mathur</td>\n",
              "    </tr>\n",
              "    <tr>\n",
              "      <th>3</th>\n",
              "      <td>Help Ever Hurt Never....\\nRahul Gholap\\nManag...</td>\n",
              "      <td>[ Help Ever Hurt Never...., Rahul Gholap, Mana...</td>\n",
              "      <td>Rahul Gholap</td>\n",
              "    </tr>\n",
              "    <tr>\n",
              "      <th>4</th>\n",
              "      <td>तক ई\\nतसुणम\\n1.&amp; SONS\\nCANVASING AGENT\\nNAYA ...</td>\n",
              "      <td>[ तক ई, तसुणम, 1.&amp; SONS, CANVASING AGENT, NAYA...</td>\n",
              "      <td>NAYA BAGHANA</td>\n",
              "    </tr>\n",
              "    <tr>\n",
              "      <th>5</th>\n",
              "      <td>Manan Mathur\\nRelationship Manager - Sales\\n+...</td>\n",
              "      <td>[ Manan Mathur, Relationship Manager - Sales, ...</td>\n",
              "      <td>Manan Mathur</td>\n",
              "    </tr>\n",
              "    <tr>\n",
              "      <th>6</th>\n",
              "      <td>P. Aanand\\nMob.:7875042230\\n9011409121\\nश्री ...</td>\n",
              "      <td>[ P. Aanand, Mob.:7875042230, 9011409121, श्री...</td>\n",
              "      <td>Aanand Shree</td>\n",
              "    </tr>\n",
              "    <tr>\n",
              "      <th>7</th>\n",
              "      <td>Satramdas S. Chandwani\\nPrakash Kapurwani\\nMA...</td>\n",
              "      <td>[ Satramdas S. Chandwani, Prakash Kapurwani, M...</td>\n",
              "      <td>Satramdas Chandwani</td>\n",
              "    </tr>\n",
              "    <tr>\n",
              "      <th>8</th>\n",
              "      <td>Tel : SRIMATHA\\nM.Narayana Murty\\n08814) 2245...</td>\n",
              "      <td>[ Tel : SRIMATHA, M.Narayana Murty, 08814) 224...</td>\n",
              "      <td>Tel SRIMATHA</td>\n",
              "    </tr>\n",
              "    <tr>\n",
              "      <th>9</th>\n",
              "      <td>Suhas Saraf\\nC.E.O.\\nVasundhara\\nEnterprises\\...</td>\n",
              "      <td>[ Suhas Saraf, C.E.O., Vasundhara, Enterprises...</td>\n",
              "      <td>Suhas Saraf</td>\n",
              "    </tr>\n",
              "    <tr>\n",
              "      <th>10</th>\n",
              "      <td>(0) 6501982, 4618756\\n4618738\\nGram : MANAVTA...</td>\n",
              "      <td>[ (0) 6501982, 4618756, 4618738, Gram : MANAVT...</td>\n",
              "      <td>MANAVTA Dinesh</td>\n",
              "    </tr>\n",
              "    <tr>\n",
              "      <th>11</th>\n",
              "      <td>Vinod Gala\\nM: 93229 09013\\nKRISAANVI\\nCREATI...</td>\n",
              "      <td>[ Vinod Gala, M: 93229 09013, KRISAANVI, CREAT...</td>\n",
              "      <td>Vinod KRISAANVI</td>\n",
              "    </tr>\n",
              "    <tr>\n",
              "      <th>12</th>\n",
              "      <td>Since - 1978\\nShashikant C. Shaha\\nLavate Par...</td>\n",
              "      <td>[ Since - 1978, Shashikant C. Shaha, Lavate Pa...</td>\n",
              "      <td>Shashikant Shaha</td>\n",
              "    </tr>\n",
              "    <tr>\n",
              "      <th>13</th>\n",
              "      <td>Mob : 98210 10700\\nANILBHAI\\n98208 10109\\nS. ...</td>\n",
              "      <td>[ Mob : 98210 10700, ANILBHAI, 98208 10109, S....</td>\n",
              "      <td>ANILBHAI Convassing</td>\n",
              "    </tr>\n",
              "    <tr>\n",
              "      <th>14</th>\n",
              "      <td>www.SIXONICTECH.COM\\nSIXONIC TECHNOLOGIES PVT...</td>\n",
              "      <td>[ www.SIXONICTECH.COM, SIXONIC TECHNOLOGIES PV...</td>\n",
              "      <td>SIXONICTECH COM</td>\n",
              "    </tr>\n",
              "    <tr>\n",
              "      <th>15</th>\n",
              "      <td>11 Jai Mata Di II\\nMob.: 9869644680\\n88983897...</td>\n",
              "      <td>[ 11 Jai Mata Di II, Mob.: 9869644680, 8898389...</td>\n",
              "      <td>Jai Mata</td>\n",
              "    </tr>\n",
              "    <tr>\n",
              "      <th>16</th>\n",
              "      <td>K. GNANAMANI PILLAI\\n(a) MANIRATHNAM\\nMob. 09...</td>\n",
              "      <td>[ K. GNANAMANI PILLAI, (a) MANIRATHNAM, Mob. 0...</td>\n",
              "      <td>GNANAMANI PILLAI</td>\n",
              "    </tr>\n",
              "    <tr>\n",
              "      <th>17</th>\n",
              "      <td>Prakash\\nRajesh\\n094253 28288\\n094259 23900\\n...</td>\n",
              "      <td>[ Prakash, Rajesh, 094253 28288, 094259 23900,...</td>\n",
              "      <td>Prakash Rajesh</td>\n",
              "    </tr>\n",
              "    <tr>\n",
              "      <th>18</th>\n",
              "      <td>Cell: 93253 13803\\n99675 53803\\nBhavesh\\nShre...</td>\n",
              "      <td>[ Cell: 93253 13803, 99675 53803, Bhavesh, Shr...</td>\n",
              "      <td>Bhavesh Shreenath</td>\n",
              "    </tr>\n",
              "    <tr>\n",
              "      <th>19</th>\n",
              "      <td>Help Ever Hurt Never....\\nRahul Gholap\\nManag...</td>\n",
              "      <td>[ Help Ever Hurt Never...., Rahul Gholap, Mana...</td>\n",
              "      <td>Rahul Gholap</td>\n",
              "    </tr>\n",
              "    <tr>\n",
              "      <th>20</th>\n",
              "      <td>Off\\nRes\\nMobile :098481-84915\\ne-mail : jail...</td>\n",
              "      <td>[ Off, Res, Mobile :098481-84915, e-mail : jai...</td>\n",
              "      <td>jaileshmht gmail</td>\n",
              "    </tr>\n",
              "    <tr>\n",
              "      <th>21</th>\n",
              "      <td>77690\\n10450\\n'N\\nZa\\nNARAYANDAS DAMODARDAS Z...</td>\n",
              "      <td>[ 77690, 10450, 'N, Za, NARAYANDAS DAMODARDAS ...</td>\n",
              "      <td>Za NARAYANDAS</td>\n",
              "    </tr>\n",
              "    <tr>\n",
              "      <th>22</th>\n",
              "      <td>Nehaal Fakih\\n+91-9004488330\\nnehaal@91spring...</td>\n",
              "      <td>[ Nehaal Fakih, +91-9004488330, nehaal@91sprin...</td>\n",
              "      <td>Nehaal Fakih</td>\n",
              "    </tr>\n",
              "    <tr>\n",
              "      <th>23</th>\n",
              "      <td>N.K. RATHI\\nPremier Technologies Ltd.\\n23/F M...</td>\n",
              "      <td>[ N.K. RATHI, Premier Technologies Ltd., 23/F ...</td>\n",
              "      <td>RATHI Ltd</td>\n",
              "    </tr>\n",
              "    <tr>\n",
              "      <th>24</th>\n",
              "      <td>(0) 6501982, 4618756\\n4618738\\nGram : MANAVTA...</td>\n",
              "      <td>[ (0) 6501982, 4618756, 4618738, Gram : MANAVT...</td>\n",
              "      <td>MANAVTA Dinesh</td>\n",
              "    </tr>\n",
              "    <tr>\n",
              "      <th>25</th>\n",
              "      <td>Amit Kumthekar\\nDirector\\nM.: 9595383216\\nE: ...</td>\n",
              "      <td>[ Amit Kumthekar, Director, M.: 9595383216, E:...</td>\n",
              "      <td>Amit Kumthekar</td>\n",
              "    </tr>\n",
              "    <tr>\n",
              "      <th>26</th>\n",
              "      <td>9440243827 (Suranna)\\n9494659251 (Ravindra)\\n...</td>\n",
              "      <td>[ 9440243827 (Suranna), 9494659251 (Ravindra),...</td>\n",
              "      <td>Suranna Ravindra</td>\n",
              "    </tr>\n",
              "    <tr>\n",
              "      <th>27</th>\n",
              "      <td>Resi : 09242643772\\nShivananda : 09901923533\\...</td>\n",
              "      <td>[ Resi : 09242643772, Shivananda : 09901923533...</td>\n",
              "      <td>Resi Shivananda</td>\n",
              "    </tr>\n",
              "    <tr>\n",
              "      <th>28</th>\n",
              "      <td>+919730704929\\nCA\\n+91 9421833600\\nCA Pushkar...</td>\n",
              "      <td>[ +919730704929, CA, +91 9421833600, CA Pushka...</td>\n",
              "      <td>Pushkar Solanki</td>\n",
              "    </tr>\n",
              "    <tr>\n",
              "      <th>29</th>\n",
              "      <td>The Venga Project\\nReal Connections. Great Me...</td>\n",
              "      <td>[ The Venga Project, Real Connections. Great M...</td>\n",
              "      <td>Venga Sarthak</td>\n",
              "    </tr>\n",
              "    <tr>\n",
              "      <th>30</th>\n",
              "      <td>501, Sahyadri Business Park,\\nO Mico Circle, ...</td>\n",
              "      <td>[ 501, Sahyadri Business Park,, O Mico Circle,...</td>\n",
              "      <td>Sahyadri Mico</td>\n",
              "    </tr>\n",
              "    <tr>\n",
              "      <th>31</th>\n",
              "      <td>Cell : 9370762286\\n9373962286\\n- Plywood\\n- L...</td>\n",
              "      <td>[ Cell : 9370762286, 9373962286, - Plywood, - ...</td>\n",
              "      <td>Vineers GHP</td>\n",
              "    </tr>\n",
              "    <tr>\n",
              "      <th>32</th>\n",
              "      <td>Manish Katariya\\nS.S.D.\\nNarain Katariya\\nM: ...</td>\n",
              "      <td>[ Manish Katariya, S.S.D., Narain Katariya, M:...</td>\n",
              "      <td>Katariya Narain</td>\n",
              "    </tr>\n",
              "    <tr>\n",
              "      <th>33</th>\n",
              "      <td>Nilesh\\n9373250625\\nBhagwandas\\n9422942625\\nC...</td>\n",
              "      <td>[ Nilesh, 9373250625, Bhagwandas, 9422942625, ...</td>\n",
              "      <td>Nilesh Bhagwandas</td>\n",
              "    </tr>\n",
              "    <tr>\n",
              "      <th>34</th>\n",
              "      <td>Vivek Singhal\\nM: 94271 09283\\nBrijesh Singha...</td>\n",
              "      <td>[ Vivek Singhal, M: 94271 09283, Brijesh Singh...</td>\n",
              "      <td>Vivek Singhal</td>\n",
              "    </tr>\n",
              "    <tr>\n",
              "      <th>35</th>\n",
              "      <td>Ashok Agrowal 099499 76002\\nAnkit Agruwal 098...</td>\n",
              "      <td>[ Ashok Agrowal 099499 76002, Ankit Agruwal 09...</td>\n",
              "      <td>Ashok Agrowal</td>\n",
              "    </tr>\n",
              "    <tr>\n",
              "      <th>36</th>\n",
              "      <td>CA\\n+919730704929\\n+ 91 9421833600\\nCA Pushka...</td>\n",
              "      <td>[ CA, +919730704929, + 91 9421833600, CA Pushk...</td>\n",
              "      <td>Pushkar Solanki</td>\n",
              "    </tr>\n",
              "    <tr>\n",
              "      <th>37</th>\n",
              "      <td>।। श्री निहाल खूब फ़ुल शांति गुरूवे नमः॥\\nVar...</td>\n",
              "      <td>[ ।। श्री निहाल खूब फ़ुल शांति गुरूवे नमः॥, Va...</td>\n",
              "      <td>Vardhaman KHAMAN</td>\n",
              "    </tr>\n",
              "    <tr>\n",
              "      <th>38</th>\n",
              "      <td>Pritesh Khiwwansara\\n9822059833\\nMAHALAXMI\\nT...</td>\n",
              "      <td>[ Pritesh Khiwwansara, 9822059833, MAHALAXMI, ...</td>\n",
              "      <td>Pritesh Khiwwansara</td>\n",
              "    </tr>\n",
              "    <tr>\n",
              "      <th>39</th>\n",
              "      <td>Babasaheb Harde\\n(Managing Director)\\nMob.: 9...</td>\n",
              "      <td>[ Babasaheb Harde, (Managing Director), Mob.: ...</td>\n",
              "      <td>Babasaheb Harde</td>\n",
              "    </tr>\n",
              "    <tr>\n",
              "      <th>40</th>\n",
              "      <td>Rajendra Kela\\n9595050076\\nPrasad R. Kela\\n94...</td>\n",
              "      <td>[ Rajendra Kela, 9595050076, Prasad R. Kela, 9...</td>\n",
              "      <td>Rajendra Kela</td>\n",
              "    </tr>\n",
              "    <tr>\n",
              "      <th>41</th>\n",
              "      <td>Pankaj B. Patil (Kantaiay)\\nMob. 9422249955\\n...</td>\n",
              "      <td>[ Pankaj B. Patil (Kantaiay), Mob. 9422249955,...</td>\n",
              "      <td>Pankaj Patil</td>\n",
              "    </tr>\n",
              "    <tr>\n",
              "      <th>42</th>\n",
              "      <td>SAURABH SHARMA\\n@saurabh667\\nIndia\\nCEO &amp; Co-...</td>\n",
              "      <td>[ SAURABH SHARMA, @saurabh667, India, CEO &amp; Co...</td>\n",
              "      <td>SAURABH SHARMA</td>\n",
              "    </tr>\n",
              "    <tr>\n",
              "      <th>43</th>\n",
              "      <td>inbound\\ngrowth\\nRashika Dass\\n+919167605010\\...</td>\n",
              "      <td>[ inbound, growth, Rashika Dass, +919167605010...</td>\n",
              "      <td>Rashika rashikadass</td>\n",
              "    </tr>\n",
              "    <tr>\n",
              "      <th>44</th>\n",
              "      <td>:(0253) 2463561\\n2461102/2456579\\nRAM BHAI\\nP...</td>\n",
              "      <td>[ :(0253) 2463561, 2461102/2456579, RAM BHAI, ...</td>\n",
              "      <td>BHAI PURUSHOTTAM</td>\n",
              "    </tr>\n",
              "    <tr>\n",
              "      <th>45</th>\n",
              "      <td>Office: +91-233 2621721\\nTel.Fax :+91-233 262...</td>\n",
              "      <td>[ Office: +91-233 2621721, Tel.Fax :+91-233 26...</td>\n",
              "      <td>Tel Shrikanth</td>\n",
              "    </tr>\n",
              "    <tr>\n",
              "      <th>46</th>\n",
              "      <td>Offi 2333731\\nCell : 94432 63731\\nK. MANI\\nSA...</td>\n",
              "      <td>[ Offi 2333731, Cell : 94432 63731, K. MANI, S...</td>\n",
              "      <td>Offi MANI</td>\n",
              "    </tr>\n",
              "    <tr>\n",
              "      <th>47</th>\n",
              "      <td>AICICI PRUDENTIAL\\nLIFE INSURANCE\\nSushilkuma...</td>\n",
              "      <td>[ AICICI PRUDENTIAL, LIFE INSURANCE, Sushilkum...</td>\n",
              "      <td>AICICI Sushilkumar</td>\n",
              "    </tr>\n",
              "    <tr>\n",
              "      <th>48</th>\n",
              "      <td>MITESH POKAR\\nOPERATION MANAGER\\nINTERNAUTS\\n...</td>\n",
              "      <td>[ MITESH POKAR, OPERATION MANAGER, INTERNAUTS,...</td>\n",
              "      <td>MITESH POKAR</td>\n",
              "    </tr>\n",
              "    <tr>\n",
              "      <th>49</th>\n",
              "      <td>(0) 6501982, 4618756\\n4618738\\nGram : MANAVTA...</td>\n",
              "      <td>[ (0) 6501982, 4618756, 4618738, Gram : MANAVT...</td>\n",
              "      <td>MANAVTA Dinesh</td>\n",
              "    </tr>\n",
              "    <tr>\n",
              "      <th>50</th>\n",
              "      <td>Event management.\\nBrand building.\\nBusiness ...</td>\n",
              "      <td>[ Event management., Brand building., Business...</td>\n",
              "      <td>Your Broadvision</td>\n",
              "    </tr>\n",
              "    <tr>\n",
              "      <th>51</th>\n",
              "      <td>ABHAY ATHAVLE\\nB. Com., ACS, LL. B.\\nCOMPANY ...</td>\n",
              "      <td>[ ABHAY ATHAVLE, B. Com., ACS, LL. B., COMPANY...</td>\n",
              "      <td>ABHAY ATHAVLE</td>\n",
              "    </tr>\n",
              "    <tr>\n",
              "      <th>52</th>\n",
              "      <td>Hans Raj Agrawal\\nCell: 09440178202\\nPh.:0884...</td>\n",
              "      <td>[ Hans Raj Agrawal, Cell: 09440178202, Ph.:088...</td>\n",
              "      <td>Agrawal VITHAL</td>\n",
              "    </tr>\n",
              "    <tr>\n",
              "      <th>53</th>\n",
              "      <td>RAJENDRA PURI\\nGAJENDRA NAGDA\\nM: 8114450275\\...</td>\n",
              "      <td>[ RAJENDRA PURI, GAJENDRA NAGDA, M: 8114450275...</td>\n",
              "      <td>RAJENDRA PURI</td>\n",
              "    </tr>\n",
              "  </tbody>\n",
              "</table>\n",
              "</div>"
            ],
            "text/plain": [
              "                                                 text  ...               Namess\n",
              "0    Vardhaman Kochar\\nSadhana Kochar\\n9822342076\\...  ...     Vardhaman Kochar\n",
              "1    I Tarachand\\n9370237313\\nBALAJI\\n7972464762\\n...  ...    BALAJI Foodgrains\n",
              "2    Manan Mathur\\nRelationship Manager - Sales\\n+...  ...         Manan Mathur\n",
              "3    Help Ever Hurt Never....\\nRahul Gholap\\nManag...  ...         Rahul Gholap\n",
              "4    तক ई\\nतसुणम\\n1.& SONS\\nCANVASING AGENT\\nNAYA ...  ...         NAYA BAGHANA\n",
              "5    Manan Mathur\\nRelationship Manager - Sales\\n+...  ...         Manan Mathur\n",
              "6    P. Aanand\\nMob.:7875042230\\n9011409121\\nश्री ...  ...         Aanand Shree\n",
              "7    Satramdas S. Chandwani\\nPrakash Kapurwani\\nMA...  ...  Satramdas Chandwani\n",
              "8    Tel : SRIMATHA\\nM.Narayana Murty\\n08814) 2245...  ...         Tel SRIMATHA\n",
              "9    Suhas Saraf\\nC.E.O.\\nVasundhara\\nEnterprises\\...  ...          Suhas Saraf\n",
              "10   (0) 6501982, 4618756\\n4618738\\nGram : MANAVTA...  ...       MANAVTA Dinesh\n",
              "11   Vinod Gala\\nM: 93229 09013\\nKRISAANVI\\nCREATI...  ...      Vinod KRISAANVI\n",
              "12   Since - 1978\\nShashikant C. Shaha\\nLavate Par...  ...     Shashikant Shaha\n",
              "13   Mob : 98210 10700\\nANILBHAI\\n98208 10109\\nS. ...  ...  ANILBHAI Convassing\n",
              "14   www.SIXONICTECH.COM\\nSIXONIC TECHNOLOGIES PVT...  ...      SIXONICTECH COM\n",
              "15   11 Jai Mata Di II\\nMob.: 9869644680\\n88983897...  ...             Jai Mata\n",
              "16   K. GNANAMANI PILLAI\\n(a) MANIRATHNAM\\nMob. 09...  ...     GNANAMANI PILLAI\n",
              "17   Prakash\\nRajesh\\n094253 28288\\n094259 23900\\n...  ...       Prakash Rajesh\n",
              "18   Cell: 93253 13803\\n99675 53803\\nBhavesh\\nShre...  ...    Bhavesh Shreenath\n",
              "19   Help Ever Hurt Never....\\nRahul Gholap\\nManag...  ...         Rahul Gholap\n",
              "20   Off\\nRes\\nMobile :098481-84915\\ne-mail : jail...  ...     jaileshmht gmail\n",
              "21   77690\\n10450\\n'N\\nZa\\nNARAYANDAS DAMODARDAS Z...  ...        Za NARAYANDAS\n",
              "22   Nehaal Fakih\\n+91-9004488330\\nnehaal@91spring...  ...         Nehaal Fakih\n",
              "23   N.K. RATHI\\nPremier Technologies Ltd.\\n23/F M...  ...            RATHI Ltd\n",
              "24   (0) 6501982, 4618756\\n4618738\\nGram : MANAVTA...  ...       MANAVTA Dinesh\n",
              "25   Amit Kumthekar\\nDirector\\nM.: 9595383216\\nE: ...  ...       Amit Kumthekar\n",
              "26   9440243827 (Suranna)\\n9494659251 (Ravindra)\\n...  ...     Suranna Ravindra\n",
              "27   Resi : 09242643772\\nShivananda : 09901923533\\...  ...      Resi Shivananda\n",
              "28   +919730704929\\nCA\\n+91 9421833600\\nCA Pushkar...  ...      Pushkar Solanki\n",
              "29   The Venga Project\\nReal Connections. Great Me...  ...        Venga Sarthak\n",
              "30   501, Sahyadri Business Park,\\nO Mico Circle, ...  ...        Sahyadri Mico\n",
              "31   Cell : 9370762286\\n9373962286\\n- Plywood\\n- L...  ...          Vineers GHP\n",
              "32   Manish Katariya\\nS.S.D.\\nNarain Katariya\\nM: ...  ...      Katariya Narain\n",
              "33   Nilesh\\n9373250625\\nBhagwandas\\n9422942625\\nC...  ...    Nilesh Bhagwandas\n",
              "34   Vivek Singhal\\nM: 94271 09283\\nBrijesh Singha...  ...        Vivek Singhal\n",
              "35   Ashok Agrowal 099499 76002\\nAnkit Agruwal 098...  ...        Ashok Agrowal\n",
              "36   CA\\n+919730704929\\n+ 91 9421833600\\nCA Pushka...  ...      Pushkar Solanki\n",
              "37   ।। श्री निहाल खूब फ़ुल शांति गुरूवे नमः॥\\nVar...  ...     Vardhaman KHAMAN\n",
              "38   Pritesh Khiwwansara\\n9822059833\\nMAHALAXMI\\nT...  ...  Pritesh Khiwwansara\n",
              "39   Babasaheb Harde\\n(Managing Director)\\nMob.: 9...  ...      Babasaheb Harde\n",
              "40   Rajendra Kela\\n9595050076\\nPrasad R. Kela\\n94...  ...        Rajendra Kela\n",
              "41   Pankaj B. Patil (Kantaiay)\\nMob. 9422249955\\n...  ...         Pankaj Patil\n",
              "42   SAURABH SHARMA\\n@saurabh667\\nIndia\\nCEO & Co-...  ...       SAURABH SHARMA\n",
              "43   inbound\\ngrowth\\nRashika Dass\\n+919167605010\\...  ...  Rashika rashikadass\n",
              "44   :(0253) 2463561\\n2461102/2456579\\nRAM BHAI\\nP...  ...     BHAI PURUSHOTTAM\n",
              "45   Office: +91-233 2621721\\nTel.Fax :+91-233 262...  ...        Tel Shrikanth\n",
              "46   Offi 2333731\\nCell : 94432 63731\\nK. MANI\\nSA...  ...            Offi MANI\n",
              "47   AICICI PRUDENTIAL\\nLIFE INSURANCE\\nSushilkuma...  ...   AICICI Sushilkumar\n",
              "48   MITESH POKAR\\nOPERATION MANAGER\\nINTERNAUTS\\n...  ...         MITESH POKAR\n",
              "49   (0) 6501982, 4618756\\n4618738\\nGram : MANAVTA...  ...       MANAVTA Dinesh\n",
              "50   Event management.\\nBrand building.\\nBusiness ...  ...     Your Broadvision\n",
              "51   ABHAY ATHAVLE\\nB. Com., ACS, LL. B.\\nCOMPANY ...  ...        ABHAY ATHAVLE\n",
              "52   Hans Raj Agrawal\\nCell: 09440178202\\nPh.:0884...  ...       Agrawal VITHAL\n",
              "53   RAJENDRA PURI\\nGAJENDRA NAGDA\\nM: 8114450275\\...  ...        RAJENDRA PURI\n",
              "\n",
              "[54 rows x 3 columns]"
            ]
          },
          "metadata": {
            "tags": []
          },
          "execution_count": 28
        }
      ]
    },
    {
      "cell_type": "code",
      "metadata": {
        "id": "PDRJ7JpxRaUF",
        "colab_type": "code",
        "colab": {}
      },
      "source": [
        ""
      ],
      "execution_count": 0,
      "outputs": []
    }
  ]
}