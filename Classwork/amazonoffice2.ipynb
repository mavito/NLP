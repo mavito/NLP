{
  "nbformat": 4,
  "nbformat_minor": 0,
  "metadata": {
    "colab": {
      "name": "amazonoffice2.ipynb",
      "provenance": []
    },
    "kernelspec": {
      "name": "python3",
      "display_name": "Python 3"
    }
  },
  "cells": [
    {
      "cell_type": "code",
      "metadata": {
        "id": "INybzj4iZzMd",
        "colab_type": "code",
        "colab": {}
      },
      "source": [
        "import pandas as pd\n",
        "import json\n",
        "from collections import Counter\n",
        "import string\n",
        "import re"
      ],
      "execution_count": 0,
      "outputs": []
    },
    {
      "cell_type": "markdown",
      "metadata": {
        "id": "qPDeZtvkV6c-",
        "colab_type": "text"
      },
      "source": [
        "LINK TO AMAZON REVIEWS FOR OFFICE PRODUCTS"
      ]
    },
    {
      "cell_type": "code",
      "metadata": {
        "id": "NoQwZ2ZJSvlA",
        "colab_type": "code",
        "colab": {}
      },
      "source": [
        "url = \"http://snap.stanford.edu/data/amazon/productGraph/categoryFiles/reviews_Office_Products_5.json.gz\" "
      ],
      "execution_count": 0,
      "outputs": []
    },
    {
      "cell_type": "code",
      "metadata": {
        "id": "7J4GTCXqS7t9",
        "colab_type": "code",
        "colab": {}
      },
      "source": [
        "r = pd.read_json(url,lines=True)"
      ],
      "execution_count": 0,
      "outputs": []
    },
    {
      "cell_type": "code",
      "metadata": {
        "id": "2is97QUnTmxN",
        "colab_type": "code",
        "colab": {}
      },
      "source": [
        "df1 = r.copy()"
      ],
      "execution_count": 0,
      "outputs": []
    },
    {
      "cell_type": "markdown",
      "metadata": {
        "id": "Bn9d8Z5-WKv6",
        "colab_type": "text"
      },
      "source": [
        "LECTURE 2"
      ]
    },
    {
      "cell_type": "markdown",
      "metadata": {
        "id": "A2JCNbDEp4--",
        "colab_type": "text"
      },
      "source": [
        "VOWEL CONSONANT CASE"
      ]
    },
    {
      "cell_type": "code",
      "metadata": {
        "id": "fEz3dCxRjKuU",
        "colab_type": "code",
        "colab": {}
      },
      "source": [
        "vowel = ['a','e','i','o','u']"
      ],
      "execution_count": 0,
      "outputs": []
    },
    {
      "cell_type": "code",
      "metadata": {
        "id": "h5qHc30AkcHB",
        "colab_type": "code",
        "colab": {}
      },
      "source": [
        "def vowcons(text):\n",
        "  countr = {\"vowel\":0,\"consonant\":0,\"totcount\":0}\n",
        "  punc = '`!@#$%^&*()_+-=[]{}\\/|;'';\"\":,.<>?'\n",
        "  \n",
        "  for word in text:\n",
        "    if word in list(punc):\n",
        "      text = text.replace(word,'')\n",
        "  countr['totcount'] = len(text.split())\n",
        "  text = text.replace(' ','')\n",
        "\n",
        "  for lettr in list(text):\n",
        "    if lettr.casefold() in vowel:\n",
        "      countr[\"vowel\"]+=1\n",
        "    else:\n",
        "      countr[\"consonant\"]+=1\n",
        "  return countr\n"
      ],
      "execution_count": 0,
      "outputs": []
    },
    {
      "cell_type": "code",
      "metadata": {
        "id": "X-A43E9bkcRp",
        "colab_type": "code",
        "colab": {}
      },
      "source": [
        "df1['VowConsTotT'] = df1['reviewText'].apply(lambda x:vowcons(x))\n",
        "df1['VowConsTotS'] = df1['summary'].apply(lambda x:vowcons(x))"
      ],
      "execution_count": 0,
      "outputs": []
    },
    {
      "cell_type": "markdown",
      "metadata": {
        "id": "JIcjYjRZp-qe",
        "colab_type": "text"
      },
      "source": [
        "BEGINNING WITH B ENDING WITH G"
      ]
    },
    {
      "cell_type": "code",
      "metadata": {
        "id": "bYXh-IZKxQ6O",
        "colab_type": "code",
        "colab": {}
      },
      "source": [
        "def begend(text):\n",
        "  countb = []\n",
        "  countg = []\n",
        "  countb = (re.findall(r\"\\b[b]\\w+\",text,re.IGNORECASE))\n",
        "  countg = (re.findall(r\"\\b\\w+[g]\",text,re.IGNORECASE))\n",
        "  countbg = {'B':countb,'G':countg}\n",
        "  return countbg"
      ],
      "execution_count": 0,
      "outputs": []
    },
    {
      "cell_type": "code",
      "metadata": {
        "id": "_gwP8JL8x7S4",
        "colab_type": "code",
        "colab": {}
      },
      "source": [
        "df1['BegEndT'] = df1['reviewText'].apply(lambda x:begend(x))\n",
        "df1['BegEndS'] = df1['summary'].apply(lambda x:begend(x))"
      ],
      "execution_count": 0,
      "outputs": []
    },
    {
      "cell_type": "code",
      "metadata": {
        "id": "TKZznttzzGWs",
        "colab_type": "code",
        "outputId": "25489f68-daa3-4824-8c52-93016b8c7841",
        "colab": {
          "base_uri": "https://localhost:8080/",
          "height": 1000
        }
      },
      "source": [
        "df1['BegEndT'][3]"
      ],
      "execution_count": 124,
      "outputs": [
        {
          "output_type": "execute_result",
          "data": {
            "text/plain": [
              "{'B': ['been',\n",
              "  'because',\n",
              "  'but',\n",
              "  'buy',\n",
              "  'Black',\n",
              "  'But',\n",
              "  'beats',\n",
              "  'blinks',\n",
              "  'Buy',\n",
              "  'But',\n",
              "  'basic',\n",
              "  'brands',\n",
              "  'better',\n",
              "  'battery',\n",
              "  'batteries',\n",
              "  'brands',\n",
              "  'balance',\n",
              "  'be',\n",
              "  'built',\n",
              "  'bird'],\n",
              " 'G': ['doing',\n",
              "  'looking',\n",
              "  'using',\n",
              "  'long',\n",
              "  'lasting',\n",
              "  'leg',\n",
              "  'long',\n",
              "  'straig',\n",
              "  'colleg',\n",
              "  'graphing',\n",
              "  'solving',\n",
              "  'something',\n",
              "  'straig',\n",
              "  'nothing',\n",
              "  'fing',\n",
              "  'hig',\n",
              "  'Straig',\n",
              "  'prog',\n",
              "  'along',\n",
              "  'rig',\n",
              "  'deg',\n",
              "  'graphing',\n",
              "  'complaining',\n",
              "  'doing',\n",
              "  'thing',\n",
              "  'rig',\n",
              "  'colleg',\n",
              "  'taking',\n",
              "  'graphing',\n",
              "  'thing',\n",
              "  'enoug',\n",
              "  'going',\n",
              "  'reg',\n",
              "  'programming',\n",
              "  'programming',\n",
              "  'rig',\n",
              "  'ag',\n",
              "  'hig',\n",
              "  'long',\n",
              "  'lasting',\n",
              "  'going']}"
            ]
          },
          "metadata": {
            "tags": []
          },
          "execution_count": 124
        }
      ]
    },
    {
      "cell_type": "code",
      "metadata": {
        "id": "NE981NgYrFDr",
        "colab_type": "code",
        "colab": {}
      },
      "source": [
        ""
      ],
      "execution_count": 0,
      "outputs": []
    }
  ]
}