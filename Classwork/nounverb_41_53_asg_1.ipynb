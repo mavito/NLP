{
  "nbformat": 4,
  "nbformat_minor": 0,
  "metadata": {
    "colab": {
      "name": "spacy_11_12_hw.ipynb",
      "provenance": [],
      "collapsed_sections": []
    },
    "kernelspec": {
      "name": "python3",
      "display_name": "Python 3"
    }
  },
  "cells": [
    {
      "cell_type": "code",
      "metadata": {
        "id": "BBFgKa0A8SGv",
        "colab_type": "code",
        "colab": {}
      },
      "source": [
        "import pandas as pd\n",
        "import json\n",
        "import string\n",
        "import re\n",
        "import nltk\n",
        "import spacy\n",
        "from nltk.stem import WordNetLemmatizer"
      ],
      "execution_count": 0,
      "outputs": []
    },
    {
      "cell_type": "code",
      "metadata": {
        "id": "zcmOJddXOSMv",
        "colab_type": "code",
        "colab": {}
      },
      "source": [
        "spac = spacy.load('en')"
      ],
      "execution_count": 0,
      "outputs": []
    },
    {
      "cell_type": "code",
      "metadata": {
        "id": "hfeo6Twl97Mz",
        "colab_type": "code",
        "outputId": "f638c0a9-85f0-463b-cd0f-db8a88a74a0b",
        "colab": {
          "base_uri": "https://localhost:8080/",
          "height": 151
        }
      },
      "source": [
        "nltk.download('wordnet')\n",
        "nltk.download('averaged_perceptron_tagger')\n",
        "nltk.download('punkt')"
      ],
      "execution_count": 3,
      "outputs": [
        {
          "output_type": "stream",
          "text": [
            "[nltk_data] Downloading package wordnet to /root/nltk_data...\n",
            "[nltk_data]   Unzipping corpora/wordnet.zip.\n",
            "[nltk_data] Downloading package averaged_perceptron_tagger to\n",
            "[nltk_data]     /root/nltk_data...\n",
            "[nltk_data]   Unzipping taggers/averaged_perceptron_tagger.zip.\n",
            "[nltk_data] Downloading package punkt to /root/nltk_data...\n",
            "[nltk_data]   Unzipping tokenizers/punkt.zip.\n"
          ],
          "name": "stdout"
        },
        {
          "output_type": "execute_result",
          "data": {
            "text/plain": [
              "True"
            ]
          },
          "metadata": {
            "tags": []
          },
          "execution_count": 3
        }
      ]
    },
    {
      "cell_type": "code",
      "metadata": {
        "id": "ud62Q9xU8pcO",
        "colab_type": "code",
        "colab": {}
      },
      "source": [
        "url = \"http://snap.stanford.edu/data/amazon/productGraph/categoryFiles/reviews_Office_Products_5.json.gz\"\n",
        "r = pd.read_json(url,lines=True)\n",
        "df1 = r.copy() "
      ],
      "execution_count": 0,
      "outputs": []
    },
    {
      "cell_type": "code",
      "metadata": {
        "id": "fNtqj1OJCDOI",
        "colab_type": "code",
        "colab": {}
      },
      "source": [
        "lem  = WordNetLemmatizer()\n",
        "mwet = nltk.tokenize.MWETokenizer()"
      ],
      "execution_count": 0,
      "outputs": []
    },
    {
      "cell_type": "code",
      "metadata": {
        "id": "SVktZmaeC9I0",
        "colab_type": "code",
        "colab": {}
      },
      "source": [
        "def nltkpipe(text):\n",
        "  wt_list = nltk.tokenize.word_tokenize(text)\n",
        "  mwe_list = mwet.tokenize(text.split())\n",
        "  tabb = dict(nltk.pos_tag(text.split()))\n",
        "  wordadj = ' '.join([word for word in tabb if tabb[word]=='JJ'])\n",
        "  mwelem = ' '.join([lem.lemmatize(word,'v') for word in mwe_list])\n",
        "  wtlem = ' '.join([lem.lemmatize(word,'v') for word in wt_list])\n",
        "  result = {'MWE':mwelem,'wtlem':wtlem,'word_adj':wordadj}\n",
        "  return  result"
      ],
      "execution_count": 0,
      "outputs": []
    },
    {
      "cell_type": "code",
      "metadata": {
        "id": "nHelelWoJKk0",
        "colab_type": "code",
        "outputId": "e5b618fb-6d16-40a4-dc45-0e5d19f6ec18",
        "colab": {
          "base_uri": "https://localhost:8080/",
          "height": 87
        }
      },
      "source": [
        "nltkpipe(df1['reviewText'][0])"
      ],
      "execution_count": 0,
      "outputs": [
        {
          "output_type": "execute_result",
          "data": {
            "text/plain": [
              "{'MWE': \"I buy my first HP12C in about 1984 or so, and it serve me faithfully until 2002 when I lose it while travelling. I search for another one to replace it, but find one difficult to come by in my area. So, I decide to buy up and purchase an HP 49G. What a mistake! I know that many people view the HP 49G (now 49G+) as the flagship of the HP line, but for me that be a disaster.The 49G may be powerful, but use it be extremely counterintuitive...and the manual be sketchy at best. The 12C, on the other hand, do what I need in a way that make good sense to me.If you be look for a solid, reliable calculator, the HP12C may be for you. It's programmable. It do basic statistics well, and many business applications too. The manual make sense; you will be up and run in short order.I'm ready to set my 49G aside and move back to my old friend. I didn't even have to replace the batteries in well over a decade of use!HP 12C, I'm come home!\",\n",
              " 'word_adj': 'first difficult area. many disaster.The manual other good reliable you. basic short ready old use!HP',\n",
              " 'wtlem': \"I buy my first HP12C in about 1984 or so , and it serve me faithfully until 2002 when I lose it while travel . I search for another one to replace it , but find one difficult to come by in my area . So , I decide to buy up and purchase an HP 49G . What a mistake ! I know that many people view the HP 49G ( now 49G+ ) as the flagship of the HP line , but for me that be a disaster.The 49G may be powerful , but use it be extremely counterintuitive ... and the manual be sketchy at best . The 12C , on the other hand , do what I need in a way that make good sense to me.If you be look for a solid , reliable calculator , the HP12C may be for you . It 's programmable . It do basic statistics well , and many business applications too . The manual make sense ; you will be up and run in short order.I 'm ready to set my 49G aside and move back to my old friend . I do n't even have to replace the batteries in well over a decade of use ! HP 12C , I 'm come home !\"}"
            ]
          },
          "metadata": {
            "tags": []
          },
          "execution_count": 7
        }
      ]
    },
    {
      "cell_type": "code",
      "metadata": {
        "id": "ECcKiCnVJPVt",
        "colab_type": "code",
        "colab": {}
      },
      "source": [
        "def spacypipe(text):\n",
        "  spc = spac(text)\n",
        "  tokens = ' '.join([token.text for token in spc])\n",
        "  lem = ' '.join([token.lemma_ if token.lemma_ != '-PRON-' else token.text for token in spc])\n",
        "  wornoun = ' '.join([token.text for token in spc if token.pos_ == 'NOUN'])\n",
        "  img = spacy.displacy.render(spc,jupyter=True,options={'compact' : True})\n",
        "  result = {'tokenised':tokens,'lem':lem,'word_noun':wornoun}  \n",
        "  return result,img"
      ],
      "execution_count": 0,
      "outputs": []
    },
    {
      "cell_type": "code",
      "metadata": {
        "id": "6KORQfe7R2tt",
        "colab_type": "code",
        "colab": {}
      },
      "source": [
        "spacypipe(df1['reviewText'][0])"
      ],
      "execution_count": 0,
      "outputs": []
    },
    {
      "cell_type": "code",
      "metadata": {
        "id": "K-Unx3lMDr8o",
        "colab_type": "code",
        "colab": {}
      },
      "source": [
        "def noveratio(text):\n",
        "  numnoun = 0\n",
        "  numverb = 0 \n",
        "  spc = spac(text)\n",
        "  for token in spc:\n",
        "    if token.pos_ =='NOUN':\n",
        "      numnoun +=1\n",
        "    elif token.pos_ =='VERB':\n",
        "      numverb +=1\n",
        "  \n",
        "  if(numnoun!= 0 and numverb!=0):\n",
        "    return numnoun/numverb\n",
        "  else:\n",
        "    return 0"
      ],
      "execution_count": 0,
      "outputs": []
    },
    {
      "cell_type": "code",
      "metadata": {
        "id": "bFv4wvBjEtCd",
        "colab_type": "code",
        "colab": {
          "base_uri": "https://localhost:8080/",
          "height": 34
        },
        "outputId": "4f6347a6-4402-4382-b73b-26ab57cf8ac2"
      },
      "source": [
        "noveratio(df1['reviewText'][1])"
      ],
      "execution_count": 14,
      "outputs": [
        {
          "output_type": "execute_result",
          "data": {
            "text/plain": [
              "1.5763888888888888"
            ]
          },
          "metadata": {
            "tags": []
          },
          "execution_count": 14
        }
      ]
    },
    {
      "cell_type": "code",
      "metadata": {
        "id": "nHk1ZV5JEwpg",
        "colab_type": "code",
        "colab": {}
      },
      "source": [
        "df1['NounVerbRatT'] = df1.iloc[1:50]['reviewText'].apply(noveratio)"
      ],
      "execution_count": 0,
      "outputs": []
    },
    {
      "cell_type": "code",
      "metadata": {
        "id": "_BKIcj6BE5l-",
        "colab_type": "code",
        "colab": {
          "base_uri": "https://localhost:8080/",
          "height": 34
        },
        "outputId": "b115fc4c-80f8-498d-833d-6f1f156254df"
      },
      "source": [
        "df1['NounVerbRatT'][1]"
      ],
      "execution_count": 13,
      "outputs": [
        {
          "output_type": "execute_result",
          "data": {
            "text/plain": [
              "1.5763888888888888"
            ]
          },
          "metadata": {
            "tags": []
          },
          "execution_count": 13
        }
      ]
    },
    {
      "cell_type": "code",
      "metadata": {
        "id": "s5-5ELr_F4BJ",
        "colab_type": "code",
        "colab": {}
      },
      "source": [
        ""
      ],
      "execution_count": 0,
      "outputs": []
    }
  ]
}