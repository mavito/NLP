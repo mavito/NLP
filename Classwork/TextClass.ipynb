{
  "nbformat": 4,
  "nbformat_minor": 0,
  "metadata": {
    "colab": {
      "name": "TextClass.ipynb",
      "provenance": []
    },
    "kernelspec": {
      "name": "python3",
      "display_name": "Python 3"
    },
    "accelerator": "GPU"
  },
  "cells": [
    {
      "cell_type": "code",
      "metadata": {
        "id": "38r9JW_hTtAC",
        "colab_type": "code",
        "colab": {}
      },
      "source": [
        "!pip install word2vec"
      ],
      "execution_count": 0,
      "outputs": []
    },
    {
      "cell_type": "code",
      "metadata": {
        "id": "ogm-IiqnMSWh",
        "colab_type": "code",
        "colab": {}
      },
      "source": [
        "import pandas as pd\n",
        "import numpy as np\n",
        "from gensim.models import Word2Vec\n",
        "from nltk.corpus import stopwords\n",
        "from itertools import combinations\n",
        "import string"
      ],
      "execution_count": 0,
      "outputs": []
    },
    {
      "cell_type": "code",
      "metadata": {
        "id": "Gdsq6m29MdBR",
        "colab_type": "code",
        "colab": {}
      },
      "source": [
        "data=pd.read_csv(\"https://raw.githubusercontent.com/zfz/twitter_corpus/master/full-corpus.csv\")\n",
        "#url = \"http://snap.stanford.edu/data/amazon/productGraph/categoryFiles/reviews_Office_Products_5.json.gz\"\n",
        "#r = pd.read_json(url,lines=True)\n",
        "#df1 = r.copy()\n",
        "twitr = data.copy() "
      ],
      "execution_count": 0,
      "outputs": []
    },
    {
      "cell_type": "code",
      "metadata": {
        "id": "D6rPNxgJXn9B",
        "colab_type": "code",
        "colab": {}
      },
      "source": [
        "twitr['tokenText'] = twitr['TweetText'].apply(lambda x: list(set(x.translate(str.maketrans('','', string.punctuation)).split())))"
      ],
      "execution_count": 0,
      "outputs": []
    },
    {
      "cell_type": "code",
      "metadata": {
        "id": "N03zW6x-aABf",
        "colab_type": "code",
        "outputId": "0350388f-e71d-441e-ec45-ca90e5959b29",
        "colab": {
          "base_uri": "https://localhost:8080/",
          "height": 218
        }
      },
      "source": [
        "twitr['tokenText'] #naive bayes on credit,default "
      ],
      "execution_count": 4,
      "outputs": [
        {
          "output_type": "execute_result",
          "data": {
            "text/plain": [
              "0       [crack, has, that, iphone, Now, all, do, get, ...\n",
              "1       [4S, more, adding, just, iPhone, announced, su...\n",
              "2       [guy, Hilarious, affair, youtube, s, much, htt...\n",
              "3       [you, for, me, too, RIM, made, iPhone, ya, swi...\n",
              "4       [I, into, that, twitter, was, apple, ios5, the...\n",
              "                              ...                        \n",
              "5108                         [me, twitter, copè, con, re]\n",
              "5109    [genteeee, twitter, noches, quierooo, Buenas, ...\n",
              "5110    [me, voy, la, tiene, twitter, cuano, mala, bno...\n",
              "5111    [Twitter, Permaneça, por, aqui, bem, Sempre, p...\n",
              "5112    [o, primeiro, historia, seguiram, para, RT, fo...\n",
              "Name: tokenText, Length: 5113, dtype: object"
            ]
          },
          "metadata": {
            "tags": []
          },
          "execution_count": 4
        }
      ]
    },
    {
      "cell_type": "code",
      "metadata": {
        "id": "Z6jj7JTkvCeY",
        "colab_type": "code",
        "colab": {}
      },
      "source": [
        "bagofwords = [[i] for i in list(set([y for x in twitr['tokenText'] for y in x]))]\n",
        "model3 = Word2Vec(list(bagofwords), min_count=1,size= 50,workers=3, window =3, sg = 1)"
      ],
      "execution_count": 0,
      "outputs": []
    },
    {
      "cell_type": "code",
      "metadata": {
        "id": "KmwTG3ym18tQ",
        "colab_type": "code",
        "outputId": "079bbee8-947b-46a7-8240-7e0f12eb10c5",
        "colab": {
          "base_uri": "https://localhost:8080/",
          "height": 826
        }
      },
      "source": [
        "for i in bagofwords[0:10]: #taking smaller sample of words for ease of computing\n",
        "  for j in bagofwords[0:10]:\n",
        "    if j>i:\n",
        "      print(i[0],j[0],' : ',model3.wv.similarity(i[0],j[0]))\n",
        "    else:\n",
        "      continue"
      ],
      "execution_count": 21,
      "outputs": [
        {
          "output_type": "stream",
          "text": [
            "laugh wearable  :  0.23916207\n",
            "laugh spaces  :  -0.18325138\n",
            "laugh pones  :  0.10750901\n",
            "hide laugh  :  0.19958448\n",
            "hide wearable  :  -0.07845759\n",
            "hide spaces  :  0.023505218\n",
            "hide pones  :  -0.09943846\n",
            "MF laugh  :  -0.2666126\n",
            "MF hide  :  -0.015504254\n",
            "MF definitely  :  -0.23779485\n",
            "MF wearable  :  -0.07845935\n",
            "MF Rocioo08  :  0.15744059\n",
            "MF spaces  :  0.18984091\n",
            "MF pones  :  0.049915634\n",
            "MF application  :  -0.09549404\n",
            "definitely laugh  :  0.07544336\n",
            "definitely hide  :  0.12182217\n",
            "definitely wearable  :  0.021894658\n",
            "definitely spaces  :  -0.20437363\n",
            "definitely pones  :  0.2412657\n",
            "Rocioo08 laugh  :  -0.073414624\n",
            "Rocioo08 hide  :  0.15720774\n",
            "Rocioo08 definitely  :  -0.13119532\n",
            "Rocioo08 wearable  :  -0.34038544\n",
            "Rocioo08 spaces  :  -0.28558576\n",
            "Rocioo08 pones  :  -0.17971657\n",
            "Rocioo08 application  :  -0.43912283\n",
            "spaces wearable  :  0.23897928\n",
            "pones wearable  :  0.08895239\n",
            "pones spaces  :  -0.17248246\n",
            "application laugh  :  -0.2235059\n",
            "application hide  :  -0.1640067\n",
            "application definitely  :  0.078229785\n",
            "application wearable  :  0.3628959\n",
            "application spaces  :  0.34754884\n",
            "application pones  :  0.09967252\n",
            "HAD laugh  :  -0.03848576\n",
            "HAD hide  :  -0.11455239\n",
            "HAD MF  :  0.107074514\n",
            "HAD definitely  :  0.16624019\n",
            "HAD wearable  :  0.00034033877\n",
            "HAD Rocioo08  :  -0.27287441\n",
            "HAD spaces  :  0.0885991\n",
            "HAD pones  :  -0.023636298\n",
            "HAD application  :  0.15226024\n"
          ],
          "name": "stdout"
        },
        {
          "output_type": "stream",
          "text": [
            "/usr/local/lib/python3.6/dist-packages/gensim/matutils.py:737: FutureWarning: Conversion of the second argument of issubdtype from `int` to `np.signedinteger` is deprecated. In future, it will be treated as `np.int64 == np.dtype(int).type`.\n",
            "  if np.issubdtype(vec.dtype, np.int):\n"
          ],
          "name": "stderr"
        }
      ]
    },
    {
      "cell_type": "code",
      "metadata": {
        "id": "ajgqI1OwnfSe",
        "colab_type": "code",
        "colab": {}
      },
      "source": [
        ""
      ],
      "execution_count": 0,
      "outputs": []
    }
  ]
}