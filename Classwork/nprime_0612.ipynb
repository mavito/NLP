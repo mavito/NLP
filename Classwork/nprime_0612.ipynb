{
  "nbformat": 4,
  "nbformat_minor": 0,
  "metadata": {
    "colab": {
      "name": "nprime.ipynb",
      "provenance": []
    },
    "kernelspec": {
      "name": "python3",
      "display_name": "Python 3"
    }
  },
  "cells": [
    {
      "cell_type": "code",
      "metadata": {
        "id": "y64ySFJbYb0B",
        "colab_type": "code",
        "colab": {}
      },
      "source": [
        "import numpy as np\n",
        "import math"
      ],
      "execution_count": 0,
      "outputs": []
    },
    {
      "cell_type": "code",
      "metadata": {
        "id": "5IsF2UGRYS6P",
        "colab_type": "code",
        "outputId": "4440883f-533f-4812-83b5-70fb623c29cf",
        "colab": {
          "base_uri": "https://localhost:8080/",
          "height": 34
        }
      },
      "source": [
        "n = int(input('Enter n: '))"
      ],
      "execution_count": 0,
      "outputs": [
        {
          "output_type": "stream",
          "text": [
            "Enter n: 4\n"
          ],
          "name": "stdout"
        }
      ]
    },
    {
      "cell_type": "code",
      "metadata": {
        "id": "t5EWznQbYkAS",
        "colab_type": "code",
        "colab": {}
      },
      "source": [
        "def nprime(n):\n",
        "    primes = [2]\n",
        "    num = 3\n",
        "    while len(primes)!=n:\n",
        "        for p in primes:\n",
        "            if num % p == 0:\n",
        "                break\n",
        "        else:\n",
        "            primes.append(num)\n",
        "        num += 1\n",
        "    return primes[-1],primes"
      ],
      "execution_count": 0,
      "outputs": []
    },
    {
      "cell_type": "code",
      "metadata": {
        "id": "u5o7-TaIR13V",
        "colab_type": "code",
        "outputId": "2de7584d-1b65-4dcf-ffd8-385214ce138b",
        "colab": {
          "base_uri": "https://localhost:8080/",
          "height": 34
        }
      },
      "source": [
        "print('Prime Number',n,'is:',nprime(n))"
      ],
      "execution_count": 0,
      "outputs": [
        {
          "output_type": "stream",
          "text": [
            "Prime Number 4 is: (7, [2, 3, 5, 7])\n"
          ],
          "name": "stdout"
        }
      ]
    },
    {
      "cell_type": "code",
      "metadata": {
        "id": "jwrX2bzkXbdx",
        "colab_type": "code",
        "colab": {}
      },
      "source": [
        ""
      ],
      "execution_count": 0,
      "outputs": []
    }
  ]
}
